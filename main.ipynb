{
 "cells": [
  {
   "cell_type": "markdown",
   "id": "fcbf3d54",
   "metadata": {},
   "source": [
    "1. Investiga un caso en la vida real donde podremos aplicar un modelo de Regresión Logística. Fundamenta.\n",
    "La regresión logística se usa para predecir resultados con dos opciones, como si un tweet tiene un sentimiento positivo o no.\n",
    "\n",
    " Elegí analizar tweets en español sobre COVID-19 porque:\n",
    "\n",
    "* Es útil para entender opiniones en redes sociales.\n",
    "* Permite un gráfico simple para ver los resultados."
   ]
  },
  {
   "cell_type": "markdown",
   "id": "0c5d4acd",
   "metadata": {},
   "source": [
    "2. Crea o selecciona un datasets que te permita entrenar tu modelo para abordar la problemática.\n",
    "\n",
    "cargamos el dataset, mostramos las primeras fulas y las columnas disponibles. Luego seleccionamos y limpiamos columnas relevantes. Convertimos el sentimienot a binario (1= positivo, 0= negativo), eliminamos las filas donde 'label' sigue siendo NAN, creamos una variable independiente simple y mostramos las primeras filas despues de la limpieza."
   ]
  },
  {
   "cell_type": "code",
   "execution_count": 23,
   "id": "f45fdffc",
   "metadata": {},
   "outputs": [
    {
     "name": "stdout",
     "output_type": "stream",
     "text": [
      "Primeras filas del dataset:\n",
      "       tweet_id  label                                         tweet_text\n",
      "0  1.360342e+18      1  4,000 a day dying from the so called Covid-19 ...\n",
      "1  1.382896e+18      2  Pranam message for today manifested in Dhyan b...\n",
      "2  1.375673e+18      2  Hyderabad-based ?@BharatBiotech? has sought fu...\n",
      "3  1.381311e+18      1  Confirmation that Chinese #vaccines \"dont hav...\n",
      "4  1.362166e+18      3  Lab studies suggest #Pfizer, #Moderna vaccines...\n",
      "\n",
      "Columnas disponibles:\n",
      "Index(['tweet_id', 'label', 'tweet_text'], dtype='object')\n",
      "\n",
      "Datos limpios:\n",
      "                                          tweet_text  label  text_length\n",
      "0  4,000 a day dying from the so called Covid-19 ...      1          135\n",
      "1  Pranam message for today manifested in Dhyan b...      0          298\n",
      "2  Hyderabad-based ?@BharatBiotech? has sought fu...      0          251\n",
      "3  Confirmation that Chinese #vaccines \"dont hav...      1          282\n",
      "4  Lab studies suggest #Pfizer, #Moderna vaccines...      0          110\n",
      "\n",
      "Valores únicos en 'label' después del mapeo: [1 0]\n"
     ]
    }
   ],
   "source": [
    "import pandas as pd\n",
    "\n",
    "\n",
    "data = pd.read_csv('./covid-19.csv', encoding='latin1')\n",
    "\n",
    "print(\"Primeras filas del dataset:\")\n",
    "print(data.head())\n",
    "print(\"\\nColumnas disponibles:\")\n",
    "print(data.columns)\n",
    "\n",
    "data = data[['tweet_text', 'label']].dropna()\n",
    "\n",
    "data['label'] = data['label'].map({1: 1, 2: 0, 3: 0}) \n",
    "\n",
    "data = data.dropna(subset=['label'])\n",
    "\n",
    "data['text_length'] = data['tweet_text'].str.len()\n",
    "\n",
    "print(\"\\nDatos limpios:\")\n",
    "print(data.head())\n",
    "print(\"\\nValores únicos en 'label' después del mapeo:\", data['label'].unique())"
   ]
  },
  {
   "cell_type": "markdown",
   "id": "3facd8fa",
   "metadata": {},
   "source": [
    "3. Crea un modelo de regresión logística utilizando la librería Scikit Learn y entrenalo con los datos del datasets.\n",
    "\n",
    "preparamos las variables, dividimos en entrenamiento y prueba, creamos y entrenamos el modelo luego se imprimen las precisión "
   ]
  },
  {
   "cell_type": "code",
   "execution_count": null,
   "id": "595bc631",
   "metadata": {},
   "outputs": [
    {
     "name": "stdout",
     "output_type": "stream",
     "text": [
      "Precisión en entrenamiento: 0.93\n"
     ]
    }
   ],
   "source": [
    "from sklearn.model_selection import train_test_split\n",
    "from sklearn.linear_model import LogisticRegression\n",
    "\n",
    "X = data[['text_length']]  \n",
    "y = data['label']        \n",
    "\n",
    "X_train, X_test, y_train, y_test = train_test_split(X, y, test_size=0.2, random_state=42)\n",
    "\n",
    "model = LogisticRegression()\n",
    "model.fit(X_train, y_train)\n",
    "\n",
    "print(f\"Precisión en entrenamiento: {model.score(X_train, y_train):.2f}\")"
   ]
  },
  {
   "cell_type": "markdown",
   "id": "778acad3",
   "metadata": {},
   "source": [
    "4. Realiza un gráfico con la librería matplotlib de los datos de entrenamiento y las predicciones realizadas por el modelo.\n",
    "\n",
    "Se realiza las prediciones y creamos el grafico "
   ]
  },
  {
   "cell_type": "code",
   "execution_count": 22,
   "id": "879b91a4",
   "metadata": {},
   "outputs": [
    {
     "data": {
      "image/png": "[encoded data removed]",
      "text/plain": [
       "<Figure size 600x400 with 1 Axes>"
      ]
     },
     "metadata": {},
     "output_type": "display_data"
    }
   ],
   "source": [
    "import matplotlib.pyplot as plt\n",
    "\n",
    "\n",
    "y_pred = model.predict(X_test)\n",
    "\n",
    "\n",
    "plt.figure(figsize=(6, 4))\n",
    "plt.scatter(y_test, y_pred, color='blue', alpha=0.5)\n",
    "plt.plot([0, 1], [0, 1], 'r--', lw=1) \n",
    "plt.xlabel('Real (0 = No, 1 = Sí)')\n",
    "plt.ylabel('Predicho (0 = No, 1 = Sí)')\n",
    "plt.title('Reales vs Predichos')\n",
    "plt.yticks([0, 1], ['No', 'Sí'])\n",
    "plt.xticks([0, 1], ['No', 'Sí'])\n",
    "plt.grid(True)\n",
    "plt.show()"
   ]
  }
 ],
 "metadata": {
  "kernelspec": {
   "display_name": "venv",
   "language": "python",
   "name": "python3"
  },
  "language_info": {
   "codemirror_mode": {
    "name": "ipython",
    "version": 3
   },
   "file_extension": ".py",
   "mimetype": "text/x-python",
   "name": "python",
   "nbconvert_exporter": "python",
   "pygments_lexer": "ipython3",
   "version": "3.13.2"
  }
 },
 "nbformat": 4,
 "nbformat_minor": 5
}
